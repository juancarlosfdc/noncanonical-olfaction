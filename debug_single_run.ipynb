{
 "cells": [
  {
   "cell_type": "markdown",
   "metadata": {},
   "source": [
    "# Debugging the optimization \n",
    "When we ran the sweep, we noticed some nan values for our loss at certain combinations of parameters, such as N, M, n, sigma_c = 60, 30, 2, 2. Here we'll try to reproduce that and fix it "
   ]
  },
  {
   "cell_type": "code",
   "execution_count": 1,
   "metadata": {},
   "outputs": [],
   "source": [
    "from canonical_model_jax import *"
   ]
  },
  {
   "cell_type": "code",
   "execution_count": 2,
   "metadata": {},
   "outputs": [
    {
     "name": "stdout",
     "output_type": "stream",
     "text": [
      "   Static hostname: holylogin07.rc.fas.harvard.edu\n",
      "         Icon name: computer-server\n",
      "           Chassis: server\n",
      "        Machine ID: a9837fad808a496aa2934547e47aad96\n",
      "           Boot ID: 91f86800653a4d9e9f50f8685977999e\n",
      "  Operating System: \u001b]8;;https://rockylinux.org/\u0007Rocky Linux 8.9 (Green Obsidian)\u001b]8;;\u0007\n",
      "       CPE OS Name: cpe:/o:rocky:rocky:8:GA\n",
      "            Kernel: Linux 4.18.0-513.18.1.el8_9.x86_64\n",
      "      Architecture: x86-64\n"
     ]
    }
   ],
   "source": [
    "!hostnamectl"
   ]
  },
  {
   "cell_type": "code",
   "execution_count": null,
   "metadata": {},
   "outputs": [],
   "source": []
  }
 ],
 "metadata": {
  "kernelspec": {
   "display_name": "olfaction",
   "language": "python",
   "name": "python3"
  },
  "language_info": {
   "codemirror_mode": {
    "name": "ipython",
    "version": 3
   },
   "file_extension": ".py",
   "mimetype": "text/x-python",
   "name": "python",
   "nbconvert_exporter": "python",
   "pygments_lexer": "ipython3",
   "version": "3.12.8"
  }
 },
 "nbformat": 4,
 "nbformat_minor": 2
}
