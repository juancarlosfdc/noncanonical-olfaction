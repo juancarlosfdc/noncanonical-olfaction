{
 "cells": [
  {
   "cell_type": "markdown",
   "metadata": {},
   "source": [
    "# Use RBM to sample from mnist "
   ]
  },
  {
   "cell_type": "code",
   "execution_count": 433,
   "metadata": {},
   "outputs": [],
   "source": [
    "import jax \n",
    "from jax import numpy as jnp\n",
    "from jax import jit \n",
    "import numpy as np\n",
    "from sklearn.neural_network import BernoulliRBM\n",
    "from sklearn.datasets import load_digits\n",
    "from sklearn.preprocessing import MinMaxScaler\n",
    "import matplotlib.pyplot as plt\n",
    "import pandas as pd\n",
    "from skimage.transform import resize \n",
    "from sklearn.datasets import fetch_openml\n",
    "mnist = fetch_openml('mnist_784')"
   ]
  },
  {
   "cell_type": "code",
   "execution_count": 444,
   "metadata": {},
   "outputs": [],
   "source": [
    "data = mnist.data.values / 255\n",
    "P = 2000\n",
    "X = resize(data[:P, :].reshape(P, 28, 28), (P, 16, 16), anti_aliasing=True).reshape(P, 16*16)\n"
   ]
  },
  {
   "cell_type": "code",
   "execution_count": 446,
   "metadata": {},
   "outputs": [],
   "source": [
    "scaler = MinMaxScaler(feature_range=(0, 1))\n",
    "X_scaled = scaler.fit_transform(X)"
   ]
  },
  {
   "cell_type": "code",
   "execution_count": 447,
   "metadata": {},
   "outputs": [],
   "source": [
    "def break_covariances(data): \n",
    "    data = pd.DataFrame(data).apply(lambda row: pd.Series(np.random.permutation(row.values), index=row.index), axis=1).values\n",
    "    return data "
   ]
  },
  {
   "cell_type": "code",
   "execution_count": 448,
   "metadata": {},
   "outputs": [],
   "source": [
    "X_scaled_shuffled = break_covariances(X_scaled.T).T "
   ]
  },
  {
   "cell_type": "code",
   "execution_count": 449,
   "metadata": {},
   "outputs": [],
   "source": [
    "class GenerativeRBM(BernoulliRBM): \n",
    "    def __init__(self, key, data, n_components, random_state ): \n",
    "        super().__init__(n_components=n_components, random_state=random_state)\n",
    "        self.key = key \n",
    "        self.data = data\n",
    "        self.burnin = 0 \n",
    "        self.tau = 1\n",
    "        self.set_empirical_means()\n",
    "        self.learning_rate=0.1\n",
    "        self.n_iter=100\n",
    "\n",
    "    def train(self): \n",
    "        self.fit(self.data.T) # data is N rows (N features) by P columns (P samples) (physics convention) \n",
    "\n",
    "    def sample(self, num_samples, v_init=None):\n",
    "        iters = self.burnin + self.tau * num_samples\n",
    "        generated_data = np.zeros((len(self.data), iters))\n",
    "        if v_init is None: \n",
    "            v_init = np.array(jax.random.bernoulli(self.key, shape=(len(generated_data), ))) \n",
    "        v = v_init \n",
    "        for i in range(iters):\n",
    "            v = self.gibbs(v)\n",
    "            generated_data[:, i] = v \n",
    "        return generated_data\n",
    "    \n",
    "    @staticmethod\n",
    "    def compute_averages(samples): \n",
    "        return jnp.mean(samples, axis=1), jnp.cov(samples)\n",
    "\n",
    "    def set_empirical_means(self): \n",
    "        self.mean, self.cov = self.compute_averages(self.data) \n",
    "\n",
    "    def compute_squared_deviations(self, samples): \n",
    "        sample_mean, cov = self.compute_averages(samples)\n",
    "        return (sample_mean - self.mean)**2, (cov - self.cov)**2\n",
    "    \n",
    "    def split_data_in_half(self): \n",
    "        cols = self.data.shape[1]\n",
    "        perm = jax.random.permutation(self.key, cols)\n",
    "        fh_indices = perm[:cols // 2]\n",
    "        sh_indices = perm[-cols//2:]\n",
    "        first_half_data = self.data[:, fh_indices]\n",
    "        second_half_data = self.data[:, sh_indices]\n",
    "        return first_half_data, second_half_data \n",
    "\n",
    "    def background_model_squared_deviations(self): \n",
    "        first_half_data, second_half_data = self.split_data_in_half()\n",
    "        fhm, fhc = self.compute_averages(first_half_data)\n",
    "        shm, shc = self.compute_averages(second_half_data)\n",
    "        return (fhm - shm)**2, (fhc - shc)**2\n",
    "    \n",
    "    def compute_background_rmse(self):\n",
    "        mean_diffs, cov_diffs = self.background_model_squared_deviations() \n",
    "        return jnp.sqrt(jnp.mean(mean_diffs)), jnp.sqrt(jnp.mean(cov_diffs.flatten()))\n",
    "\n",
    "    def compute_rmse(self, samples): \n",
    "        mean_devs, cov_devs = self.compute_squared_deviations(samples)\n",
    "        return jnp.sqrt(jnp.mean(mean_devs)), jnp.sqrt(jnp.mean(cov_devs.flatten()))\n",
    "    \n",
    "    def compute_deviations_over_training(self, training_intervals=None): \n",
    "        if training_intervals is None: \n",
    "            training_intervals = np.arange(100, 600, 100)\n",
    "        \n",
    "        means, covs = [], []\n",
    "        \n",
    "        for ti in training_intervals: \n",
    "            self.n_iter = ti \n",
    "            self.train()\n",
    "            samples = self.sample(num_samples=self.data.shape[1])\n",
    "            m, c = self.compute_rmse(samples) \n",
    "            means.append(m) \n",
    "            covs.append(c) \n",
    "        \n",
    "        return means, covs \n",
    "    \n",
    "    def plot_deviations_over_training(self, training_intervals=None): \n",
    "        \n",
    "        if training_intervals is None: \n",
    "            training_intervals = np.arange(100, 600, 100)\n",
    "        \n",
    "        m, c = self.compute_deviations_over_training(training_intervals)\n",
    "        fig, ax = plt.subplots()\n",
    "        ax.scatter(training_intervals, m, label='rmse in means (samples vs data)')\n",
    "        ax.scatter(training_intervals, c, label='rmse in covs (samples vs data)') \n",
    "        ax.plot(training_intervals, m)\n",
    "        ax.plot(training_intervals, c) \n",
    "        bm, bc = self.compute_background_rmse()\n",
    "        ax.hlines(bm, min(training_intervals), max(training_intervals), ls='--', label='rmse in means (data vs data)')\n",
    "        ax.hlines(bc, min(training_intervals), max(training_intervals), ls='--', color='tab:orange', label='rmse in covs (data vs data)')\n",
    "        ax.legend() \n",
    "        ax.set_xlabel('training iterations') \n",
    "        ax.set_ylabel('rmse') \n",
    "        ax.set_yscale('log') \n",
    "        fig.suptitle(r'training shuffled rbm; n={n}, $\\gamma={lr}$'.format(n=self.n_components, lr=self.learning_rate))\n",
    "        fig.savefig('tmp.png')\n",
    "\n",
    "        return fig, ax, m, c "
   ]
  },
  {
   "cell_type": "code",
   "execution_count": 450,
   "metadata": {},
   "outputs": [],
   "source": [
    "key = jax.random.PRNGKey(0) \n",
    "rbm = GenerativeRBM(key, data=X_scaled.T > 0.5, n_components=8, random_state=0)\n",
    "rbm.tau = 10\n",
    "rbm.learning_rate = .001\n",
    "shuffled_rbm = GenerativeRBM(key, data=X_scaled_shuffled.T > .5, n_components=1, random_state=1)\n",
    "shuffled_rbm.tau = 10 \n",
    "shuffled_rbm.learning_rate = .01\n",
    "# rbm.train(n_iter=250) "
   ]
  },
  {
   "cell_type": "code",
   "execution_count": 451,
   "metadata": {},
   "outputs": [
    {
     "data": {
      "text/plain": [
       "array([   0,  500, 1000])"
      ]
     },
     "execution_count": 451,
     "metadata": {},
     "output_type": "execute_result"
    }
   ],
   "source": [
    "np.arange(0, 1250, 500)"
   ]
  },
  {
   "cell_type": "code",
   "execution_count": 454,
   "metadata": {},
   "outputs": [],
   "source": [
    "training_steps = [1000, 2000]\n",
    "fig, ax, m, c = rbm.plot_deviations_over_training(training_steps)"
   ]
  },
  {
   "cell_type": "code",
   "execution_count": 353,
   "metadata": {},
   "outputs": [],
   "source": [
    "samples = rbm.sample(10) "
   ]
  },
  {
   "cell_type": "code",
   "execution_count": 354,
   "metadata": {},
   "outputs": [
    {
     "data": {
      "text/plain": [
       "(64, 100)"
      ]
     },
     "execution_count": 354,
     "metadata": {},
     "output_type": "execute_result"
    }
   ],
   "source": [
    "samples.shape"
   ]
  },
  {
   "cell_type": "code",
   "execution_count": 359,
   "metadata": {},
   "outputs": [
    {
     "data": {
      "text/plain": [
       "<matplotlib.image.AxesImage at 0x33d2323c0>"
      ]
     },
     "execution_count": 359,
     "metadata": {},
     "output_type": "execute_result"
    },
    {
     "data": {
      "image/png": "[encoded data removed]",
      "text/plain": [
       "<Figure size 640x480 with 1 Axes>"
      ]
     },
     "metadata": {},
     "output_type": "display_data"
    }
   ],
   "source": [
    "plt.imshow(samples[:, -5].reshape(8, 8)) "
   ]
  },
  {
   "cell_type": "code",
   "execution_count": null,
   "metadata": {},
   "outputs": [],
   "source": []
  }
 ],
 "metadata": {
  "kernelspec": {
   "display_name": "Python 3",
   "language": "python",
   "name": "python3"
  },
  "language_info": {
   "codemirror_mode": {
    "name": "ipython",
    "version": 3
   },
   "file_extension": ".py",
   "mimetype": "text/x-python",
   "name": "python",
   "nbconvert_exporter": "python",
   "pygments_lexer": "ipython3",
   "version": "3.12.5"
  }
 },
 "nbformat": 4,
 "nbformat_minor": 2
}
