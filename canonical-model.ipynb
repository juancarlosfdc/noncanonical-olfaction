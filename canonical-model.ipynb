{
 "cells": [
  {
   "cell_type": "markdown",
   "metadata": {},
   "source": [
    "# Simulate canonical olfaction as in Qin et al. 2019\n",
    "\n",
    "Here we are following exactly the notation from their paper"
   ]
  },
  {
   "cell_type": "code",
   "execution_count": 37,
   "metadata": {},
   "outputs": [],
   "source": [
    "import numpy as np\n",
    "import matplotlib.pyplot as plt\n",
    "from scipy.stats import differential_entropy\n",
    "from scipy.stats import norm, rankdata\n",
    "from scipy.special import psi"
   ]
  },
  {
   "cell_type": "code",
   "execution_count": 38,
   "metadata": {},
   "outputs": [],
   "source": [
    "class OlfactorySensing():\n",
    "    def __init__(self, N=100, n=2, M = 30, sigma_0=1e-2, sigma_c=2): \n",
    "        self.N = N\n",
    "        self.n = n\n",
    "        self.M = M\n",
    "        self.sigma_0 = sigma_0\n",
    "        self.sigma_c = sigma_c\n",
    "        self.set_sigma() \n",
    "        self.set_random_W()\n",
    "\n",
    "    def draw_c(self): \n",
    "        c = np.zeros(self.N)\n",
    "        non_zero_indices = np.random.choice(self.N, self.n, replace=False)\n",
    "        # Generate log-normal concentrations for these chosen odorants\n",
    "        concentrations = np.random.lognormal(mean=0, sigma=self.sigma_c, size=self.n)\n",
    "        c[non_zero_indices] = concentrations\n",
    "        # we should think about how to do this better. If you put correlation structure in, it should affect both concentration and presence. Otherwise because n << N your mixtures will in practice be correlated. \n",
    "        return c\n",
    "    \n",
    "    def draw_cs(self, P):\n",
    "        self.c = np.zeros((self.N, P))\n",
    "        for p in range(P): \n",
    "            self.c[:, p] = self.draw_c()\n",
    "\n",
    "    def set_sigma(self): \n",
    "        self.sigma = lambda x: x / (1 + x) \n",
    "\n",
    "    def set_random_W(self): \n",
    "        self.W = np.random.normal(loc=0, scale=1, size=(self.M, self.N))\n",
    "\n",
    "    def compute_activity(self): \n",
    "        self.r = self.sigma(self.W @ self.c) + np.random.normal(loc=0, scale=self.sigma_0)\n",
    "\n",
    "    def compute_entropy_of_r(self):\n",
    "        entropy = self.compute_marginal_entropies() - self.compute_information_of_r()\n",
    "        self.entropy = entropy \n",
    "\n",
    "    def compute_marginal_entropies(self):\n",
    "        marginal_entropies = []\n",
    "        for m in range(self.M): \n",
    "            marginal_entropies.append(differential_entropy(self.r[m, :]))\n",
    "        return np.sum(marginal_entropies) \n",
    "    \n",
    "    def compute_information_of_r(self): \n",
    "        # as in Qin et al. 2019, we use gaussian copula. This is nothing more than transforming your data through inverse normal cdf to have marginal gaussian distributions. \n",
    "        M, P = self.r.shape  # [dimension, sample size]\n",
    "        # Step 1: Transform data to approximate standard normal in each dimension\n",
    "        G = norm.ppf((rankdata(self.r.T, axis=0) / (P + 1)), loc=0, scale=1)\n",
    "        bias_correction = 0.5 * np.sum(psi((P - np.arange(1, M + 1) + 1) / 2) - np.log(P / 2))\n",
    "        # Step 3: Log determinant using Cholesky decomposition\n",
    "        cov_matrix = np.cov(G, rowvar=False)\n",
    "        chol_decomp = np.linalg.cholesky(cov_matrix)\n",
    "        log_det = np.sum(np.log(np.diag(chol_decomp)))\n",
    "        # Step 4: Mutual information estimate\n",
    "        I = -(log_det - bias_correction)\n",
    "        return I"
   ]
  },
  {
   "cell_type": "code",
   "execution_count": 39,
   "metadata": {},
   "outputs": [],
   "source": [
    "os = OlfactorySensing()\n"
   ]
  },
  {
   "cell_type": "code",
   "execution_count": 40,
   "metadata": {},
   "outputs": [],
   "source": [
    "os.draw_cs(P=1000)"
   ]
  },
  {
   "cell_type": "code",
   "execution_count": 41,
   "metadata": {},
   "outputs": [],
   "source": [
    "os.compute_activity()"
   ]
  },
  {
   "cell_type": "code",
   "execution_count": 42,
   "metadata": {},
   "outputs": [
    {
     "data": {
      "text/plain": [
       "(30, 1000)"
      ]
     },
     "execution_count": 42,
     "metadata": {},
     "output_type": "execute_result"
    }
   ],
   "source": [
    "os.r.shape"
   ]
  },
  {
   "cell_type": "code",
   "execution_count": 43,
   "metadata": {},
   "outputs": [
    {
     "data": {
      "text/plain": [
       "3.5651622243442183"
      ]
     },
     "execution_count": 43,
     "metadata": {},
     "output_type": "execute_result"
    }
   ],
   "source": [
    "os.compute_information_of_r()"
   ]
  },
  {
   "cell_type": "code",
   "execution_count": 45,
   "metadata": {},
   "outputs": [],
   "source": [
    "os.compute_entropy_of_r()"
   ]
  },
  {
   "cell_type": "code",
   "execution_count": null,
   "metadata": {},
   "outputs": [],
   "source": []
  }
 ],
 "metadata": {
  "kernelspec": {
   "display_name": "Python 3",
   "language": "python",
   "name": "python3"
  },
  "language_info": {
   "codemirror_mode": {
    "name": "ipython",
    "version": 3
   },
   "file_extension": ".py",
   "mimetype": "text/x-python",
   "name": "python",
   "nbconvert_exporter": "python",
   "pygments_lexer": "ipython3",
   "version": "3.12.5"
  }
 },
 "nbformat": 4,
 "nbformat_minor": 2
}
