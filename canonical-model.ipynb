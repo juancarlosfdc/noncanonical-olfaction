{
 "cells": [
  {
   "cell_type": "markdown",
   "metadata": {},
   "source": [
    "# Simulate canonical olfaction as in Qin et al. 2019\n",
    "\n",
    "Here we are following exactly the notation from their paper"
   ]
  },
  {
   "cell_type": "code",
   "execution_count": 46,
   "metadata": {},
   "outputs": [],
   "source": [
    "import numpy as np\n",
    "import matplotlib.pyplot as plt\n",
    "from scipy.stats import differential_entropy"
   ]
  },
  {
   "cell_type": "code",
   "execution_count": 52,
   "metadata": {},
   "outputs": [],
   "source": [
    "class OlfactorySensing():\n",
    "    def __init__(self, N=100, n=2, M = 30, sigma_0=1e-2, sigma_c=2): \n",
    "        self.N = N\n",
    "        self.n = n\n",
    "        self.M = M\n",
    "        self.sigma_0 = sigma_0\n",
    "        self.sigma_c = sigma_c\n",
    "        self.set_sigma() \n",
    "        self.set_random_W()\n",
    "\n",
    "    def draw_c(self): \n",
    "        c = np.zeros(self.N)\n",
    "        non_zero_indices = np.random.choice(self.N, self.n, replace=False)\n",
    "        # Generate log-normal concentrations for these chosen odorants\n",
    "        concentrations = np.random.lognormal(mean=0, sigma=self.sigma_c, size=self.n)\n",
    "        c[non_zero_indices] = concentrations\n",
    "        return c\n",
    "    \n",
    "    def draw_cs(self, K):\n",
    "        self.c = np.zeros((self.N, K))\n",
    "        for k in range(K): \n",
    "            self.c[:, k] = self.draw_c()\n",
    "\n",
    "    def set_sigma(self): \n",
    "        self.sigma = lambda x: x / (1 + x) \n",
    "\n",
    "    def set_random_W(self): \n",
    "        self.W = np.random.normal(loc=0, scale=1, size=(self.M, self.N))\n",
    "\n",
    "    def compute_activity(self): \n",
    "        self.r = self.sigma(self.W @ self.c) + np.random.normal(loc=0, scale=self.sigma_0)\n",
    "\n",
    "    def compute_information(self):\n",
    "        # Compute differential entropy using KDE (KDP) method\n",
    "        entropy_kde = differential_entropy(self.r, method='vasicek')\n",
    "        return entropy_kde \n",
    "    \n",
    "    "
   ]
  },
  {
   "cell_type": "code",
   "execution_count": 53,
   "metadata": {},
   "outputs": [],
   "source": [
    "os = OlfactorySensing()\n"
   ]
  },
  {
   "cell_type": "code",
   "execution_count": 54,
   "metadata": {},
   "outputs": [],
   "source": [
    "os.draw_cs(K=100) "
   ]
  },
  {
   "cell_type": "code",
   "execution_count": 55,
   "metadata": {},
   "outputs": [],
   "source": [
    "os.compute_activity()"
   ]
  },
  {
   "cell_type": "code",
   "execution_count": 58,
   "metadata": {},
   "outputs": [
    {
     "data": {
      "text/plain": [
       "100"
      ]
     },
     "execution_count": 58,
     "metadata": {},
     "output_type": "execute_result"
    }
   ],
   "source": [
    "len(os.compute_information()) "
   ]
  },
  {
   "cell_type": "code",
   "execution_count": null,
   "metadata": {},
   "outputs": [],
   "source": []
  }
 ],
 "metadata": {
  "kernelspec": {
   "display_name": "Python 3",
   "language": "python",
   "name": "python3"
  },
  "language_info": {
   "codemirror_mode": {
    "name": "ipython",
    "version": 3
   },
   "file_extension": ".py",
   "mimetype": "text/x-python",
   "name": "python",
   "nbconvert_exporter": "python",
   "pygments_lexer": "ipython3",
   "version": "3.12.5"
  }
 },
 "nbformat": 4,
 "nbformat_minor": 2
}
