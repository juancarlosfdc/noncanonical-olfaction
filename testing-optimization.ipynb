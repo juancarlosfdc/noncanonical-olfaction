{
 "cells": [
  {
   "cell_type": "markdown",
   "metadata": {},
   "source": [
    "# a sandbox to make sure we're computing entropy correctly, and optimizing correctly "
   ]
  },
  {
   "cell_type": "code",
   "execution_count": 1,
   "metadata": {},
   "outputs": [],
   "source": [
    "import jax\n",
    "import jax.numpy as jnp\n",
    "from jax import grad, value_and_grad, jit, vmap\n",
    "from jax.scipy.stats import norm, rankdata\n",
    "from jax.scipy.special import digamma\n",
    "from jax.scipy.linalg import cho_factor, cho_solve\n",
    "from jax.example_libraries import optimizers\n",
    "from jax.scipy.linalg import cholesky\n",
    "from jax import lax \n",
    "from scipy.stats import differential_entropy\n",
    "import matplotlib.pyplot as plt\n",
    "from jax import jit, tree_util\n"
   ]
  },
  {
   "cell_type": "code",
   "execution_count": 2,
   "metadata": {},
   "outputs": [],
   "source": [
    "def _pad_along_last_axis(X):\n",
    "    first_value = X[0]\n",
    "    last_value = X[-1]\n",
    "    # Use `lax.full_like` to create padded arrays\n",
    "    Xl = lax.full_like(jnp.empty((self.vasicek_window,)), first_value)\n",
    "    Xr = lax.full_like(jnp.empty((self.vasicek_window,)), last_value)\n",
    "    return jnp.concatenate((Xl, X, Xr))\n",
    "\n",
    "@ jit \n",
    "def _vasicek_entropy(X):\n",
    "    n = X.shape[-1]\n",
    "    X = jnp.sort(X, axis=-1)\n",
    "    X = self._pad_along_last_axis(X)\n",
    "    start1 = 2 * self.vasicek_window\n",
    "    length = self.P\n",
    "    differences = lax.dynamic_slice(X, (start1,), (length, )) - lax.dynamic_slice(X, (0,), (length,))\n",
    "    logs = jnp.log(n / (2 * self.vasicek_window) * differences)\n",
    "    return jnp.mean(logs, axis=-1)"
   ]
  },
  {
   "cell_type": "code",
   "execution_count": 7,
   "metadata": {},
   "outputs": [],
   "source": [
    "key = jax.random.PRNGKey(0)\n",
    "\n",
    "r = jax.random.normal(key, shape=(1000))"
   ]
  },
  {
   "cell_type": "code",
   "execution_count": null,
   "metadata": {},
   "outputs": [],
   "source": [
    "_vasicek_entropy()"
   ]
  }
 ],
 "metadata": {
  "kernelspec": {
   "display_name": "olfaction",
   "language": "python",
   "name": "python3"
  },
  "language_info": {
   "codemirror_mode": {
    "name": "ipython",
    "version": 3
   },
   "file_extension": ".py",
   "mimetype": "text/x-python",
   "name": "python",
   "nbconvert_exporter": "python",
   "pygments_lexer": "ipython3",
   "version": "3.12.5"
  }
 },
 "nbformat": 4,
 "nbformat_minor": 2
}
