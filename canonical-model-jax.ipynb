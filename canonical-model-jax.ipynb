{
 "cells": [
  {
   "cell_type": "markdown",
   "metadata": {},
   "source": [
    "# note: jax and classes are tricky\n",
    "still worth it imo \n",
    "\n",
    "https://jax.readthedocs.io/en/latest/faq.html#strategy-1-jit-compiled-helper-function"
   ]
  },
  {
   "cell_type": "code",
   "execution_count": 271,
   "metadata": {},
   "outputs": [],
   "source": [
    "import jax\n",
    "import jax.numpy as jnp\n",
    "from jax import grad, value_and_grad, jit, vmap\n",
    "from jax.scipy.stats import norm, rankdata\n",
    "from jax.scipy.special import digamma\n",
    "from jax.scipy.linalg import cho_factor, cho_solve\n",
    "from jax.example_libraries import optimizers\n",
    "from jax.scipy.linalg import cholesky\n",
    "from jax import lax \n",
    "from scipy.stats import differential_entropy\n",
    "import matplotlib.pyplot as plt\n",
    "from jax import jit, tree_util\n"
   ]
  },
  {
   "cell_type": "code",
   "execution_count": 329,
   "metadata": {},
   "outputs": [],
   "source": [
    "class OlfactorySensing:\n",
    "    def __init__(self, N=30, n=2, M=10, P=1000, sigma_0=1e-2, sigma_c=2): \n",
    "        self.N = N\n",
    "        self.n = n\n",
    "        self.M = M\n",
    "        self.P = P\n",
    "        self.sigma_0 = sigma_0\n",
    "        self.sigma_c = sigma_c\n",
    "        self.set_sigma()\n",
    "        self.W = None  # Initialize W as None; it may be set later with set_random_W\n",
    "        self.vasicek_window = None  # This will be set when draw_cs is called\n",
    "\n",
    "    def _tree_flatten(self):\n",
    "        # Treat `W` as a dynamic value, while the rest are static\n",
    "        children = (self.W,)  # W is the only dynamic value\n",
    "        aux_data = {\n",
    "            'N': self.N,\n",
    "            'n': self.n,\n",
    "            'M': self.M,\n",
    "            'P': self.P,\n",
    "            'sigma_0': self.sigma_0,\n",
    "            'sigma_c': self.sigma_c,\n",
    "            'vasicek_window': self.vasicek_window,\n",
    "        }\n",
    "        return (children, aux_data)\n",
    "\n",
    "    @classmethod\n",
    "    def _tree_unflatten(cls, aux_data, children):\n",
    "        # Recreate an instance of OlfactorySensing from children and aux_data\n",
    "        instance = cls(\n",
    "            N=aux_data['N'],\n",
    "            n=aux_data['n'],\n",
    "            M=aux_data['M'],\n",
    "            P=aux_data['P'],\n",
    "            sigma_0=aux_data['sigma_0'],\n",
    "            sigma_c=aux_data['sigma_c']\n",
    "        )\n",
    "        instance.W = children[0]\n",
    "        instance.vasicek_window = aux_data['vasicek_window']\n",
    "        return instance\n",
    "\n",
    "    def set_sigma(self): \n",
    "        self.sigma = lambda x: x / (1 + x) \n",
    "\n",
    "    def draw_c(self, key): \n",
    "        c = jnp.zeros(self.N)\n",
    "        non_zero_indices = jax.random.choice(key, self.N, shape=(self.n,), replace=False)\n",
    "        concentrations = jax.random.lognormal(key, sigma=self.sigma_c, shape=(self.n,))\n",
    "        c = c.at[non_zero_indices].set(concentrations)\n",
    "        return c\n",
    "\n",
    "    def draw_cs(self, key):\n",
    "        keys = jax.random.split(key, self.P)\n",
    "        self.vasicek_window = jax.lax.stop_gradient(jnp.round(jnp.sqrt(self.P) + 0.5)).astype(int)\n",
    "        return jnp.array([self.draw_c(k) for k in keys]).T\n",
    "\n",
    "    def set_random_W(self, key): \n",
    "        self.W = 1 / jnp.sqrt(self.N) * jax.random.normal(key, shape=(self.M, self.N))\n",
    "\n",
    "    def compute_activity(self, W, c, key): \n",
    "        pre_activations = W @ c\n",
    "        r = self.sigma(pre_activations) + self.sigma_0 * jax.random.normal(key, shape=pre_activations.shape) \n",
    "        return r\n",
    "    \n",
    "    def compute_entropy_of_r(self, W, key):\n",
    "        c = self.draw_cs(key)\n",
    "        r = self.compute_activity(W, c, key)\n",
    "        entropy = self.compute_sum_of_marginal_entropies(r) - self.compute_information_of_r(r)\n",
    "        return entropy\n",
    "\n",
    "    @jit \n",
    "    def compute_sum_of_marginal_entropies(self, r):\n",
    "        compute_entropy_vmap = vmap(self._vasicek_entropy, in_axes=0)\n",
    "        # Apply the vectorized function\n",
    "        marginal_entropies = compute_entropy_vmap(r)\n",
    "        \n",
    "        # Sum the marginal entropies\n",
    "        return jnp.sum(marginal_entropies)\n",
    "    @jit \n",
    "    def compute_information_of_r(self, r): \n",
    "        M, P = r.shape\n",
    "        G = norm.ppf((rankdata(r.T, axis=0) / (P + 1)), loc=0, scale=1)\n",
    "        bias_correction = 0.5 * jnp.sum(digamma((P - jnp.arange(1, M + 1) + 1) / 2) - jnp.log(P / 2))\n",
    "        cov_matrix = jnp.cov(G, rowvar=False)\n",
    "        chol_decomp = cholesky(cov_matrix)\n",
    "        log_det = jnp.sum(jnp.log(jnp.diag(chol_decomp)))\n",
    "        I = -(log_det - bias_correction)\n",
    "        return I\n",
    "    \n",
    "    def _pad_along_last_axis(self, X):\n",
    "        first_value = X[0]\n",
    "        last_value = X[-1]\n",
    "        # Use `lax.full_like` to create padded arrays\n",
    "        Xl = lax.full_like(jnp.empty((self.vasicek_window,)), first_value)\n",
    "        Xr = lax.full_like(jnp.empty((self.vasicek_window,)), last_value)\n",
    "        return jnp.concatenate((Xl, X, Xr))\n",
    "\n",
    "    def _vasicek_entropy(self, X):\n",
    "        n = X.shape[-1]\n",
    "        X = jnp.sort(X, axis=-1)\n",
    "        X = self._pad_along_last_axis(X)\n",
    "        start1 = 2 * self.vasicek_window\n",
    "        length = self.P\n",
    "        differences = lax.dynamic_slice(X, (start1,), (length, )) - lax.dynamic_slice(X, (0,), (length,))\n",
    "        logs = jnp.log(n / (2 * self.vasicek_window) * differences)\n",
    "        return jnp.mean(logs, axis=-1)\n",
    "\n",
    "# Register the custom class as a PyTree with JAX\n",
    "tree_util.register_pytree_node(\n",
    "    OlfactorySensing,\n",
    "    OlfactorySensing._tree_flatten,\n",
    "    OlfactorySensing._tree_unflatten\n",
    ")\n"
   ]
  },
  {
   "cell_type": "code",
   "execution_count": 330,
   "metadata": {},
   "outputs": [],
   "source": [
    "os = OlfactorySensing()\n",
    "key = jax.random.PRNGKey(0)\n",
    "cs = os.draw_cs(key=key)\n",
    "W = 1 / jnp.sqrt(os.N) * jax.random.normal(key, shape=(10, 30))\n",
    "os.r = os.compute_activity(W, cs, key)\n",
    "os.cs = cs "
   ]
  },
  {
   "cell_type": "code",
   "execution_count": 331,
   "metadata": {},
   "outputs": [
    {
     "data": {
      "text/plain": [
       "Array([0.25764543, 0.25764543, 0.25764543, ..., 0.01634433, 0.01634433,\n",
       "       0.01634433], dtype=float32)"
      ]
     },
     "execution_count": 331,
     "metadata": {},
     "output_type": "execute_result"
    }
   ],
   "source": [
    "os._pad_along_last_axis(os.r[0, :])"
   ]
  },
  {
   "cell_type": "code",
   "execution_count": 333,
   "metadata": {},
   "outputs": [
    {
     "data": {
      "text/plain": [
       "Array(12.146918, dtype=float32)"
      ]
     },
     "execution_count": 333,
     "metadata": {},
     "output_type": "execute_result"
    }
   ],
   "source": [
    "os.compute_entropy_of_r(W, key)"
   ]
  },
  {
   "cell_type": "code",
   "execution_count": 334,
   "metadata": {},
   "outputs": [],
   "source": [
    "# Maximization with respect to W\n",
    "\n",
    "def objective(W, key, os):\n",
    "    W = W**2 # parametrize so that $W > 0$ \n",
    "    return - os.compute_entropy_of_r(W, key)  # Negate for maximization\n",
    "\n",
    "# Set up JAX optimizer\n",
    "N, M = 100, 30\n",
    "os = OlfactorySensing(N=N, n=2, M=M)\n",
    "key = jax.random.PRNGKey(0)\n",
    "os.cs = os.draw_cs(key=key) \n",
    "W_init = 1 / jnp.sqrt(N) * jax.random.normal(key, shape=(M, N))\n",
    "os.W = W_init \n",
    "opt_init, opt_update, get_params = optimizers.adam(1e-3)\n",
    "opt_state = opt_init(W_init)\n",
    "\n",
    "def step(i, opt_state, key):\n",
    "    W = get_params(opt_state)\n",
    "    loss, grads = value_and_grad(lambda W: objective(W, key, os))(W)\n",
    "    opt_state = opt_update(i, grads, opt_state)\n",
    "    return opt_state, loss  # return negative loss as the maximized entropy\n"
   ]
  },
  {
   "cell_type": "code",
   "execution_count": 335,
   "metadata": {},
   "outputs": [
    {
     "name": "stdout",
     "output_type": "stream",
     "text": [
      "Step 0, Estimated Entropy: -56.58069610595703\n",
      "Step 100, Estimated Entropy: -39.397987365722656\n",
      "Optimized W: [[       nan        nan        nan ...        nan 0.5155434  0.48787335]\n",
      " [0.39910188        nan 0.5196167  ...        nan 0.4071764  0.43239006]\n",
      " [0.42153436        nan 0.42899683 ... 0.5577996  0.40636328 0.49109784]\n",
      " ...\n",
      " [0.45651224        nan        nan ... 0.49156648 0.5124467         nan]\n",
      " [0.48126158 0.42940107        nan ...        nan 0.5092083  0.5057845 ]\n",
      " [0.5955872         nan        nan ...        nan 0.49985415 0.4921222 ]]\n"
     ]
    }
   ],
   "source": [
    "# Run optimization\n",
    "n_steps = 200\n",
    "ent_values = []\n",
    "for i in range(n_steps):\n",
    "    key, subkey = jax.random.split(key)\n",
    "    opt_state, entropy_value = step(i, opt_state, subkey)\n",
    "    ent_values.append(entropy_value)\n",
    "    if i % 100 == 0:\n",
    "        print(f\"Step {i}, Estimated Entropy: {-entropy_value}\")\n",
    "\n",
    "W_opt = jnp.sqrt(get_params(opt_state).reshape((M, N))) \n",
    "print(\"Optimized W:\", W_opt)\n"
   ]
  },
  {
   "cell_type": "code",
   "execution_count": 338,
   "metadata": {},
   "outputs": [
    {
     "data": {
      "text/plain": [
       "Text(0, 0.5, '-H(r)')"
      ]
     },
     "execution_count": 338,
     "metadata": {},
     "output_type": "execute_result"
    },
    {
     "data": {
      "image/png": "[encoded data removed]",
      "text/plain": [
       "<Figure size 640x480 with 1 Axes>"
      ]
     },
     "metadata": {},
     "output_type": "display_data"
    }
   ],
   "source": [
    "fig, ax = plt.subplots()\n",
    "ax.plot(range(500), ent_values)\n",
    "ax.set_xlabel('step') \n",
    "ax.set_ylabel('-H(r)')\n"
   ]
  },
  {
   "cell_type": "code",
   "execution_count": 339,
   "metadata": {},
   "outputs": [
    {
     "data": {
      "text/plain": [
       "(30, 100)"
      ]
     },
     "execution_count": 339,
     "metadata": {},
     "output_type": "execute_result"
    }
   ],
   "source": [
    "W_init.shape"
   ]
  },
  {
   "cell_type": "code",
   "execution_count": 340,
   "metadata": {},
   "outputs": [
    {
     "data": {
      "text/plain": [
       "<matplotlib.legend.Legend at 0x364810b00>"
      ]
     },
     "execution_count": 340,
     "metadata": {},
     "output_type": "execute_result"
    },
    {
     "data": {
      "image/png": "[encoded data removed]",
      "text/plain": [
       "<Figure size 640x480 with 1 Axes>"
      ]
     },
     "metadata": {},
     "output_type": "display_data"
    }
   ],
   "source": [
    "fig, ax = plt.subplots()\n",
    "ax.hist(jnp.log(W_init.flatten()**2), label='W_init', alpha=0.7, density=True)\n",
    "ax.hist(jnp.log(W_opt.flatten()), label='W_opt', alpha=0.7, density=True) \n",
    "ax.legend()"
   ]
  },
  {
   "cell_type": "code",
   "execution_count": 341,
   "metadata": {},
   "outputs": [],
   "source": [
    "logw = jnp.log(W_opt) "
   ]
  },
  {
   "cell_type": "code",
   "execution_count": 342,
   "metadata": {},
   "outputs": [],
   "source": [
    "logw = jnp.nan_to_num(logw, nan=-10)"
   ]
  },
  {
   "cell_type": "code",
   "execution_count": 343,
   "metadata": {},
   "outputs": [],
   "source": [
    "logw = logw.at[logw < -2].set(-10)"
   ]
  },
  {
   "cell_type": "code",
   "execution_count": 344,
   "metadata": {},
   "outputs": [
    {
     "data": {
      "text/plain": [
       "Array(1635, dtype=int32)"
      ]
     },
     "execution_count": 344,
     "metadata": {},
     "output_type": "execute_result"
    }
   ],
   "source": [
    "jnp.sum(logw== -10)"
   ]
  },
  {
   "cell_type": "code",
   "execution_count": 345,
   "metadata": {},
   "outputs": [
    {
     "data": {
      "text/plain": [
       "<matplotlib.image.AxesImage at 0x3632f89e0>"
      ]
     },
     "execution_count": 345,
     "metadata": {},
     "output_type": "execute_result"
    },
    {
     "data": {
      "image/png": "[encoded data removed]",
      "text/plain": [
       "<Figure size 640x480 with 1 Axes>"
      ]
     },
     "metadata": {},
     "output_type": "display_data"
    }
   ],
   "source": [
    "fig, ax = plt.subplots()\n",
    "ax.imshow(logw)"
   ]
  },
  {
   "cell_type": "code",
   "execution_count": 346,
   "metadata": {},
   "outputs": [
    {
     "data": {
      "text/plain": [
       "Text(0.5, 0, 'log(w_opt)')"
      ]
     },
     "execution_count": 346,
     "metadata": {},
     "output_type": "execute_result"
    },
    {
     "data": {
      "image/png": "[encoded data removed]",
      "text/plain": [
       "<Figure size 640x480 with 1 Axes>"
      ]
     },
     "metadata": {},
     "output_type": "display_data"
    }
   ],
   "source": [
    "fig, ax = plt.subplots()\n",
    "ax.hist(logw[logw > -1])\n",
    "ax.set_xlabel('log(w_opt)')"
   ]
  },
  {
   "cell_type": "markdown",
   "metadata": {},
   "source": [
    "# Again check that mutual information increases with covariance"
   ]
  },
  {
   "cell_type": "code",
   "execution_count": 347,
   "metadata": {},
   "outputs": [],
   "source": [
    "def compute_information(c, os, P, key): \n",
    "    cov = c * jnp.ones((30, 30))\n",
    "    for i in range(cov.shape[0]): \n",
    "        cov = cov.at[i, i].set(1) \n",
    "    mean = jnp.zeros(cov.shape[0])  # Assuming a zero mean, adjust as needed\n",
    "    os.r = jax.random.multivariate_normal(key, mean=mean, cov=cov, shape=(P,)).T\n",
    "    I = os.compute_information_of_r(os.r)\n",
    "    return I\n",
    "\n",
    "I = compute_information(0, os, 1000, key)"
   ]
  },
  {
   "cell_type": "code",
   "execution_count": 348,
   "metadata": {},
   "outputs": [],
   "source": [
    "Is = []\n",
    "\n",
    "for c in jnp.linspace(0, .9, 10): \n",
    "    I = compute_information(c, os, 1000, key)\n",
    "    Is.append(I) "
   ]
  },
  {
   "cell_type": "code",
   "execution_count": 349,
   "metadata": {},
   "outputs": [
    {
     "data": {
      "text/plain": [
       "Text(0, 0.5, 'MI(r)')"
      ]
     },
     "execution_count": 349,
     "metadata": {},
     "output_type": "execute_result"
    },
    {
     "data": {
      "image/png": "[encoded data removed]",
      "text/plain": [
       "<Figure size 640x480 with 1 Axes>"
      ]
     },
     "metadata": {},
     "output_type": "display_data"
    }
   ],
   "source": [
    "fig, ax = plt.subplots()\n",
    "ax.plot(jnp.linspace(0, .9, 10), Is)\n",
    "ax.set_xlabel('covariance') \n",
    "ax.set_ylabel('MI(r)')\n"
   ]
  },
  {
   "cell_type": "markdown",
   "metadata": {},
   "source": [
    "Making the class a pytree: see https://jax.readthedocs.io/en/latest/faq.html#strategy-3-making-customclass-a-pytree"
   ]
  },
  {
   "cell_type": "code",
   "execution_count": 125,
   "metadata": {},
   "outputs": [],
   "source": [
    "import jax.numpy as jnp\n",
    "from jax import jit, tree_util\n",
    "\n",
    "class CustomClass:\n",
    "    def __init__(self, x: jnp.ndarray, mul: bool):\n",
    "        self.x = x\n",
    "        self.mul = mul\n",
    "\n",
    "    @jit\n",
    "    def calc(self, y):\n",
    "        if self.mul:\n",
    "            return self.x * y\n",
    "        return y\n",
    "\n",
    "    def _tree_flatten(self):\n",
    "        children = (self.x,)  # arrays / dynamic values\n",
    "        aux_data = {'mul': self.mul}  # static values\n",
    "        return (children, aux_data)\n",
    "\n",
    "    @classmethod\n",
    "    def _tree_unflatten(cls, aux_data, children):\n",
    "        return cls(*children, **aux_data)\n",
    "\n",
    "# Register the custom class as a PyTree with JAX\n",
    "tree_util.register_pytree_node(\n",
    "    CustomClass,\n",
    "    CustomClass._tree_flatten,\n",
    "    CustomClass._tree_unflatten\n",
    ")\n"
   ]
  },
  {
   "cell_type": "code",
   "execution_count": 128,
   "metadata": {},
   "outputs": [
    {
     "name": "stdout",
     "output_type": "stream",
     "text": [
      "6\n",
      "3\n",
      "6\n"
     ]
    }
   ],
   "source": [
    "c = CustomClass(2, True)\n",
    "print(c.calc(3))  # Output should be 6\n",
    "\n",
    "c.mul = False  # Mutation is detected\n",
    "print(c.calc(3))  # Output should be 3\n",
    "\n",
    "c = CustomClass(jnp.array(2), True)  # Non-hashable `x` (array) is supported\n",
    "print(c.calc(3))  # Output should be 6\n",
    "\n"
   ]
  },
  {
   "cell_type": "code",
   "execution_count": null,
   "metadata": {},
   "outputs": [],
   "source": []
  }
 ],
 "metadata": {
  "kernelspec": {
   "display_name": "olfaction",
   "language": "python",
   "name": "python3"
  },
  "language_info": {
   "codemirror_mode": {
    "name": "ipython",
    "version": 3
   },
   "file_extension": ".py",
   "mimetype": "text/x-python",
   "name": "python",
   "nbconvert_exporter": "python",
   "pygments_lexer": "ipython3",
   "version": "3.12.5"
  }
 },
 "nbformat": 4,
 "nbformat_minor": 2
}
