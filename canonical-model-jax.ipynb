{
 "cells": [
  {
   "cell_type": "code",
   "execution_count": 1,
   "metadata": {},
   "outputs": [],
   "source": [
    "import jax\n",
    "import jax.numpy as jnp\n",
    "from jax import grad, value_and_grad, jit\n",
    "from jax.scipy.stats import norm, rankdata\n",
    "from jax.scipy.special import digamma\n",
    "from jax.scipy.linalg import cho_factor, cho_solve\n",
    "from jax.example_libraries import optimizers\n",
    "from jax.scipy.linalg import cholesky\n",
    "from scipy.stats import differential_entropy\n",
    "import matplotlib.pyplot as plt\n"
   ]
  },
  {
   "cell_type": "code",
   "execution_count": 2,
   "metadata": {},
   "outputs": [],
   "source": [
    "\n",
    "class OlfactorySensing:\n",
    "    def __init__(self, N=30, n=2, M=10, sigma_0=1e-2, sigma_c=2): \n",
    "        self.N = N\n",
    "        self.n = n\n",
    "        self.M = M\n",
    "        self.sigma_0 = sigma_0\n",
    "        self.sigma_c = sigma_c\n",
    "        self.set_sigma()\n",
    "\n",
    "    def draw_c(self, key): \n",
    "        c = jnp.zeros(self.N)\n",
    "        # Select non-zero indices\n",
    "        non_zero_indices = jax.random.choice(key, self.N, shape=(self.n,), replace=False)\n",
    "        concentrations = jax.random.lognormal(key, sigma=self.sigma_c, shape=(self.n,))\n",
    "        c = c.at[non_zero_indices].set(concentrations)\n",
    "        return c\n",
    "    \n",
    "    def draw_cs(self, P, key):\n",
    "        keys = jax.random.split(key, P)\n",
    "        self.P = P\n",
    "        self.vasicek_window = jax.lax.stop_gradient(jnp.round(jnp.sqrt(P) + 0.5)).astype(int)\n",
    "        return jnp.array([self.draw_c(k) for k in keys]).T\n",
    "\n",
    "    def set_sigma(self): \n",
    "        self.sigma = lambda x: x / (1 + x) \n",
    "\n",
    "    def set_random_W(self, key): \n",
    "        self.W = 1 / jnp.sqrt(self.N) * jax.random.normal(key, shape=(self.M, self.N))\n",
    "\n",
    "    def compute_activity(self, c, key): \n",
    "        pre_activations = self.W @ c\n",
    "        r = self.sigma(pre_activations) + self.sigma_0 * jax.random.normal(key, shape=pre_activations.shape) \n",
    "        return r\n",
    "\n",
    "    def compute_entropy_of_r(self, key, P=100):\n",
    "        # c = self.draw_cs(P, key)\n",
    "        c = self.cs \n",
    "        self.r = self.compute_activity(c, key)\n",
    "        entropy = self.compute_sum_of_marginal_entropies() - self.compute_information_of_r()\n",
    "        return entropy\n",
    "\n",
    "    def compute_sum_of_marginal_entropies(self):\n",
    "        marginal_entropies = jnp.array([self._vasicek_entropy(self.r[m, :]) for m in range(self.M)])\n",
    "        return jnp.sum(marginal_entropies)\n",
    "    \n",
    "    def compute_information_of_r(self): \n",
    "        M, P = self.r.shape\n",
    "        G = norm.ppf((rankdata(self.r.T, axis=0) / (P + 1)), loc=0, scale=1)\n",
    "        bias_correction = 0.5 * jnp.sum(digamma((P - jnp.arange(1, M + 1) + 1) / 2) - jnp.log(P / 2))\n",
    "        cov_matrix = jnp.cov(G, rowvar=False)\n",
    "        chol_decomp = cholesky(cov_matrix)\n",
    "        log_det = jnp.sum(jnp.log(jnp.diag(chol_decomp)))\n",
    "        I = -(log_det - bias_correction)\n",
    "        return I\n",
    "\n",
    "    def _pad_along_last_axis(self, X, m):\n",
    "        \"\"\"Pad the data for computing the rolling window difference.\"\"\"\n",
    "        # this is translated directly from scipy.stats source code \n",
    "        shape = jnp.array(X.shape)\n",
    "        shape = shape.at[-1].set(m)\n",
    "        Xl = jnp.broadcast_to(X[..., [0]], shape)  # [0] vs 0 to maintain shape\n",
    "        Xr = jnp.broadcast_to(X[..., [-1]], shape)\n",
    "        return jnp.concatenate((Xl, X, Xr), axis=-1)\n",
    "\n",
    "    def _vasicek_entropy(self, X):\n",
    "        \"\"\"Compute the Vasicek estimator as described in Eq. 1.3. of the 1975 paper\"\"\"\n",
    "        n = X.shape[-1]\n",
    "        X = jnp.sort(X, axis=-1)\n",
    "        X = self._pad_along_last_axis(X, self.vasicek_window)\n",
    "        differences = X[..., 2 * self.vasicek_window:] - X[..., : -2 * self.vasicek_window]\n",
    "        logs = jnp.log(n / (2 * self.vasicek_window) * differences)\n",
    "        return jnp.mean(logs, axis=-1)"
   ]
  },
  {
   "cell_type": "code",
   "execution_count": 3,
   "metadata": {},
   "outputs": [],
   "source": [
    "os = OlfactorySensing()\n",
    "key = jax.random.PRNGKey(0)\n",
    "cs = os.draw_cs(P=1000, key=key)\n",
    "os.W = jax.random.normal(key, shape=(10, 30))\n",
    "os.r = os.compute_activity(cs, key)\n",
    "os.cs = cs "
   ]
  },
  {
   "cell_type": "code",
   "execution_count": 5,
   "metadata": {},
   "outputs": [
    {
     "name": "stdout",
     "output_type": "stream",
     "text": [
      "Step 0, Estimated Entropy: -89.46623229980469\n",
      "Step 100, Estimated Entropy: -59.603126525878906\n",
      "Step 200, Estimated Entropy: -43.64543151855469\n",
      "Step 300, Estimated Entropy: -34.87730407714844\n",
      "Step 400, Estimated Entropy: -29.550735473632812\n",
      "Optimized W: [[           nan            nan            nan ...            nan\n",
      "  5.61319649e-01 5.47655344e-01]\n",
      " [4.82642174e-01            nan 5.50254643e-01 ...            nan\n",
      "  5.31972955e-06            nan]\n",
      " [5.42300940e-01            nan 5.78557611e-01 ... 5.31724274e-01\n",
      "  4.89300699e-04 5.55023491e-01]\n",
      " ...\n",
      " [4.93364215e-01            nan            nan ... 5.24082839e-01\n",
      "  5.70929050e-01 1.26567287e-02]\n",
      " [4.97975707e-01 5.93290269e-01            nan ...            nan\n",
      "  5.57027400e-01            nan]\n",
      " [5.22136033e-01            nan            nan ... 1.24529315e-05\n",
      "  5.62362790e-01 5.52340448e-01]]\n"
     ]
    }
   ],
   "source": [
    "# Maximization with respect to W\n",
    "def objective(W, key, os):\n",
    "    os.W = W**2 # parametrize so that $W > 0$ \n",
    "    return - os.compute_entropy_of_r(key)  # Negate for maximization\n",
    "\n",
    "# Set up JAX optimizer\n",
    "N, M = 100, 30\n",
    "os = OlfactorySensing(N=N, n=2, M=M)\n",
    "key = jax.random.PRNGKey(0)\n",
    "os.cs = os.draw_cs(P=1000, key=key) \n",
    "W_init = 1 / jnp.sqrt(N * M) * jax.random.normal(key, shape=(M, N))\n",
    "os.W = W_init \n",
    "opt_init, opt_update, get_params = optimizers.adam(1e-3)\n",
    "opt_state = opt_init(W_init)\n",
    "\n",
    "def step(i, opt_state, key):\n",
    "    W = get_params(opt_state)\n",
    "    loss, grads = value_and_grad(objective)(W, key, os)\n",
    "    opt_state = opt_update(i, grads, opt_state)\n",
    "    return opt_state, loss  # return negative loss as the maximized entropy\n",
    "\n",
    "# Run optimization\n",
    "# @ jit # this breaks things for now\n",
    "n_steps = 500\n",
    "ent_values = []\n",
    "for i in range(n_steps):\n",
    "    key, subkey = jax.random.split(key)\n",
    "    opt_state, entropy_value = step(i, opt_state, subkey)\n",
    "    ent_values.append(entropy_value)\n",
    "    if i % 100 == 0:\n",
    "        print(f\"Step {i}, Estimated Entropy: {-entropy_value}\")\n",
    "\n",
    "W_opt = jnp.sqrt(get_params(opt_state).reshape((M, N))) \n",
    "print(\"Optimized W:\", W_opt)\n"
   ]
  },
  {
   "cell_type": "markdown",
   "metadata": {},
   "source": [
    "It this doing anything? "
   ]
  },
  {
   "cell_type": "code",
   "execution_count": 6,
   "metadata": {},
   "outputs": [
    {
     "data": {
      "text/plain": [
       "Text(0, 0.5, '-H(r)')"
      ]
     },
     "execution_count": 6,
     "metadata": {},
     "output_type": "execute_result"
    },
    {
     "data": {
      "image/png": "[encoded data removed]",
      "text/plain": [
       "<Figure size 640x480 with 1 Axes>"
      ]
     },
     "metadata": {},
     "output_type": "display_data"
    }
   ],
   "source": [
    "fig, ax = plt.subplots()\n",
    "ax.plot(range(500), ent_values)\n",
    "ax.set_xlabel('step') \n",
    "ax.set_ylabel('-H(r)')\n"
   ]
  },
  {
   "cell_type": "markdown",
   "metadata": {},
   "source": [
    "Is the resulting matrix more sparse? No, not at all. "
   ]
  },
  {
   "cell_type": "code",
   "execution_count": 34,
   "metadata": {},
   "outputs": [
    {
     "data": {
      "text/plain": [
       "(30, 100)"
      ]
     },
     "execution_count": 34,
     "metadata": {},
     "output_type": "execute_result"
    }
   ],
   "source": [
    "W_init.shape"
   ]
  },
  {
   "cell_type": "code",
   "execution_count": 24,
   "metadata": {},
   "outputs": [
    {
     "data": {
      "text/plain": [
       "<matplotlib.legend.Legend at 0x3379d5ca0>"
      ]
     },
     "execution_count": 24,
     "metadata": {},
     "output_type": "execute_result"
    },
    {
     "data": {
      "image/png": "[encoded data removed]",
      "text/plain": [
       "<Figure size 640x480 with 1 Axes>"
      ]
     },
     "metadata": {},
     "output_type": "display_data"
    }
   ],
   "source": [
    "fig, ax = plt.subplots()\n",
    "ax.hist(jnp.log(W_init.flatten()**2), label='W_init', alpha=0.7, density=True)\n",
    "ax.hist(jnp.log(W_opt.flatten()), label='W_opt', alpha=0.7, density=True) \n",
    "ax.legend()"
   ]
  },
  {
   "cell_type": "code",
   "execution_count": null,
   "metadata": {},
   "outputs": [],
   "source": []
  },
  {
   "cell_type": "markdown",
   "metadata": {},
   "source": [
    "# Again check that mutual information increases with covariance"
   ]
  },
  {
   "cell_type": "code",
   "execution_count": 27,
   "metadata": {},
   "outputs": [],
   "source": [
    "def compute_information(c, os, P, key): \n",
    "    cov = c * jnp.ones((30, 30))\n",
    "    for i in range(cov.shape[0]): \n",
    "        cov = cov.at[i, i].set(1) \n",
    "    mean = jnp.zeros(cov.shape[0])  # Assuming a zero mean, adjust as needed\n",
    "    os.r = jax.random.multivariate_normal(key, mean=mean, cov=cov, shape=(P,)).T\n",
    "    I = os.compute_information_of_r()\n",
    "    return I\n",
    "\n",
    "I = compute_information(0, os, 1000, key)"
   ]
  },
  {
   "cell_type": "code",
   "execution_count": 31,
   "metadata": {},
   "outputs": [],
   "source": [
    "Is = []\n",
    "\n",
    "for c in jnp.linspace(0, .9, 10): \n",
    "    I = compute_information(c, os, 1000, key)\n",
    "    Is.append(I) "
   ]
  },
  {
   "cell_type": "code",
   "execution_count": 33,
   "metadata": {},
   "outputs": [
    {
     "data": {
      "text/plain": [
       "Text(0, 0.5, 'MI(r)')"
      ]
     },
     "execution_count": 33,
     "metadata": {},
     "output_type": "execute_result"
    },
    {
     "data": {
      "image/png": "[encoded data removed]",
      "text/plain": [
       "<Figure size 640x480 with 1 Axes>"
      ]
     },
     "metadata": {},
     "output_type": "display_data"
    }
   ],
   "source": [
    "fig, ax = plt.subplots()\n",
    "ax.plot(jnp.linspace(0, .9, 10), Is)\n",
    "ax.set_xlabel('covariance') \n",
    "ax.set_ylabel('MI(r)')\n"
   ]
  },
  {
   "cell_type": "code",
   "execution_count": null,
   "metadata": {},
   "outputs": [],
   "source": []
  }
 ],
 "metadata": {
  "kernelspec": {
   "display_name": "olfaction",
   "language": "python",
   "name": "python3"
  },
  "language_info": {
   "codemirror_mode": {
    "name": "ipython",
    "version": 3
   },
   "file_extension": ".py",
   "mimetype": "text/x-python",
   "name": "python",
   "nbconvert_exporter": "python",
   "pygments_lexer": "ipython3",
   "version": "3.12.5"
  }
 },
 "nbformat": 4,
 "nbformat_minor": 2
}
